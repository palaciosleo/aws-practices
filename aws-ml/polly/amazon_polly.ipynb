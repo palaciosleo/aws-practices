{
 "cells": [
  {
   "cell_type": "code",
   "execution_count": 12,
   "metadata": {},
   "outputs": [],
   "source": [
    "import boto3\n",
    "from botocore.exceptions import BotoCoreError, ClientError\n",
    "from contextlib import closing\n",
    "import os\n",
    "import sys\n",
    "import subprocess\n",
    "from tempfile import gettempdir"
   ]
  },
  {
   "cell_type": "markdown",
   "metadata": {},
   "source": [
    "## AWS credentials and service selection"
   ]
  },
  {
   "cell_type": "code",
   "execution_count": 4,
   "metadata": {},
   "outputs": [],
   "source": [
    "## Selecting profile credentials\n",
    "session = boto3.session.Session(profile_name='aws_academy')\n",
    "\n",
    "## Selecting AWS Service\n",
    "polly = session.client(service_name='polly')"
   ]
  },
  {
   "cell_type": "markdown",
   "metadata": {},
   "source": [
    "## Languages Supported by Amazon Polly [docs](https://boto3.amazonaws.com/v1/documentation/api/latest/reference/services/polly.html#Polly.Client.describe_voices)"
   ]
  },
  {
   "cell_type": "code",
   "execution_count": 27,
   "metadata": {},
   "outputs": [],
   "source": [
    "response = polly.describe_voices(LanguageCode='en-US')"
   ]
  },
  {
   "cell_type": "code",
   "execution_count": 28,
   "metadata": {},
   "outputs": [
    {
     "data": {
      "text/plain": [
       "{'ResponseMetadata': {'RequestId': '0f6fd411-7616-4ff8-95a8-5b9241b69758',\n",
       "  'HTTPStatusCode': 200,\n",
       "  'HTTPHeaders': {'x-amzn-requestid': '0f6fd411-7616-4ff8-95a8-5b9241b69758',\n",
       "   'content-type': 'application/json',\n",
       "   'content-length': '1559',\n",
       "   'date': 'Thu, 07 Apr 2022 15:46:09 GMT'},\n",
       "  'RetryAttempts': 0},\n",
       " 'Voices': [{'Gender': 'Female',\n",
       "   'Id': 'Salli',\n",
       "   'LanguageCode': 'en-US',\n",
       "   'LanguageName': 'US English',\n",
       "   'Name': 'Salli',\n",
       "   'SupportedEngines': ['neural', 'standard']},\n",
       "  {'Gender': 'Female',\n",
       "   'Id': 'Joanna',\n",
       "   'LanguageCode': 'en-US',\n",
       "   'LanguageName': 'US English',\n",
       "   'Name': 'Joanna',\n",
       "   'SupportedEngines': ['neural', 'standard']},\n",
       "  {'Gender': 'Male',\n",
       "   'Id': 'Kevin',\n",
       "   'LanguageCode': 'en-US',\n",
       "   'LanguageName': 'US English',\n",
       "   'Name': 'Kevin',\n",
       "   'SupportedEngines': ['neural']},\n",
       "  {'Gender': 'Male',\n",
       "   'Id': 'Matthew',\n",
       "   'LanguageCode': 'en-US',\n",
       "   'LanguageName': 'US English',\n",
       "   'Name': 'Matthew',\n",
       "   'SupportedEngines': ['neural', 'standard']},\n",
       "  {'Gender': 'Female',\n",
       "   'Id': 'Kendra',\n",
       "   'LanguageCode': 'en-US',\n",
       "   'LanguageName': 'US English',\n",
       "   'Name': 'Kendra',\n",
       "   'SupportedEngines': ['neural', 'standard']},\n",
       "  {'Gender': 'Female',\n",
       "   'Id': 'Ivy',\n",
       "   'LanguageCode': 'en-US',\n",
       "   'LanguageName': 'US English',\n",
       "   'Name': 'Ivy',\n",
       "   'SupportedEngines': ['neural', 'standard']},\n",
       "  {'Gender': 'Male',\n",
       "   'Id': 'Justin',\n",
       "   'LanguageCode': 'en-US',\n",
       "   'LanguageName': 'US English',\n",
       "   'Name': 'Justin',\n",
       "   'SupportedEngines': ['neural', 'standard']},\n",
       "  {'Gender': 'Female',\n",
       "   'Id': 'Kimberly',\n",
       "   'LanguageCode': 'en-US',\n",
       "   'LanguageName': 'US English',\n",
       "   'Name': 'Kimberly',\n",
       "   'SupportedEngines': ['neural', 'standard']},\n",
       "  {'Gender': 'Male',\n",
       "   'Id': 'Joey',\n",
       "   'LanguageCode': 'en-US',\n",
       "   'LanguageName': 'US English',\n",
       "   'Name': 'Joey',\n",
       "   'SupportedEngines': ['neural', 'standard']}]}"
      ]
     },
     "execution_count": 28,
     "metadata": {},
     "output_type": "execute_result"
    }
   ],
   "source": [
    "response"
   ]
  },
  {
   "cell_type": "markdown",
   "metadata": {},
   "source": [
    "## SynthesizeSpeech [docs](https://boto3.amazonaws.com/v1/documentation/api/latest/reference/services/polly.html#Polly.Client)"
   ]
  },
  {
   "cell_type": "code",
   "execution_count": 22,
   "metadata": {},
   "outputs": [],
   "source": [
    "text_1 = \"El viejo y el mar es una novela escrita por Ernest Hemingway en 1951 en Cuba y publicada en 1952\"\n",
    "\n",
    "text_2 = \"Legendary leadership and elite performance expert Robin Sharma introduced The 5am Club concept over twenty years ago\""
   ]
  },
  {
   "cell_type": "code",
   "execution_count": 30,
   "metadata": {},
   "outputs": [],
   "source": [
    "try:\n",
    "    # Request speech synthesis\n",
    "    response = polly.synthesize_speech(Text=text_2, OutputFormat=\"mp3\", VoiceId=\"Matthew\")\n",
    "except (BotoCoreError, ClientError) as error:\n",
    "    # The service returned an error, exit gracefully\n",
    "    print(error)\n",
    "    sys.exit(-1)"
   ]
  },
  {
   "cell_type": "code",
   "execution_count": 31,
   "metadata": {},
   "outputs": [
    {
     "data": {
      "text/plain": [
       "{'ResponseMetadata': {'RequestId': '79be8a45-1625-4b1b-81d7-e27c2fbac451',\n",
       "  'HTTPStatusCode': 200,\n",
       "  'HTTPHeaders': {'x-amzn-requestid': '79be8a45-1625-4b1b-81d7-e27c2fbac451',\n",
       "   'x-amzn-requestcharacters': '116',\n",
       "   'content-type': 'audio/mpeg',\n",
       "   'transfer-encoding': 'chunked',\n",
       "   'date': 'Thu, 07 Apr 2022 15:46:43 GMT'},\n",
       "  'RetryAttempts': 0},\n",
       " 'ContentType': 'audio/mpeg',\n",
       " 'RequestCharacters': 116,\n",
       " 'AudioStream': <botocore.response.StreamingBody at 0x7fa623237d00>}"
      ]
     },
     "execution_count": 31,
     "metadata": {},
     "output_type": "execute_result"
    }
   ],
   "source": [
    "response"
   ]
  },
  {
   "cell_type": "code",
   "execution_count": 32,
   "metadata": {},
   "outputs": [],
   "source": [
    "# Access the audio stream from the response\n",
    "if \"AudioStream\" in response:\n",
    "    # Note: Closing the stream is important because the service throttles on the\n",
    "    # number of parallel connections. Here we are using contextlib.closing to\n",
    "    # ensure the close method of the stream object will be called automatically\n",
    "    # at the end of the with statement's scope.\n",
    "        with closing(response[\"AudioStream\"]) as stream:\n",
    "           output = os.path.join(gettempdir(), \"speech.mp3\")\n",
    "\n",
    "           try:\n",
    "            # Open a file for writing the output as a binary stream\n",
    "                with open(output, \"wb\") as file:\n",
    "                   file.write(stream.read())\n",
    "           except IOError as error:\n",
    "              # Could not write to file, exit gracefully\n",
    "              print(error)\n",
    "              sys.exit(-1)\n",
    "\n",
    "else:\n",
    "    # The response didn't contain audio data, exit gracefully\n",
    "    print(\"Could not stream audio\")\n",
    "    sys.exit(-1)\n",
    "\n",
    "# Play the audio using the platform's default player\n",
    "if sys.platform == \"win32\":\n",
    "    os.startfile(output)\n",
    "else:\n",
    "    # The following works on macOS and Linux. (Darwin = mac, xdg-open = linux).\n",
    "    opener = \"google-chrome\" # \"open\" if sys.platform == \"darwin\" else \"xdg-open\"\n",
    "    #print(opener)\n",
    "    #print(output)\n",
    "    subprocess.call([opener, output])"
   ]
  }
 ],
 "metadata": {
  "kernelspec": {
   "display_name": "Python 3",
   "language": "python",
   "name": "python3"
  },
  "language_info": {
   "codemirror_mode": {
    "name": "ipython",
    "version": 3
   },
   "file_extension": ".py",
   "mimetype": "text/x-python",
   "name": "python",
   "nbconvert_exporter": "python",
   "pygments_lexer": "ipython3",
   "version": "3.8.10"
  }
 },
 "nbformat": 4,
 "nbformat_minor": 4
}
